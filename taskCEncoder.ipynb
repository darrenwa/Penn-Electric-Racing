{
 "cells": [
  {
   "cell_type": "markdown",
   "metadata": {},
   "source": [
    "import original data"
   ]
  },
  {
   "cell_type": "code",
   "execution_count": 18,
   "metadata": {},
   "outputs": [
    {
     "name": "stdout",
     "output_type": "stream",
     "text": [
      "16766709\n"
     ]
    }
   ],
   "source": [
    "import csv\n",
    "bruh = open('taskA.csv')\n",
    "huh = csv.reader(bruh)\n",
    "rows = list(huh)\n",
    "length = len(rows)\n",
    "print(length)"
   ]
  },
  {
   "cell_type": "code",
   "execution_count": 19,
   "metadata": {},
   "outputs": [],
   "source": [
    "from tqdm import tqdm"
   ]
  },
  {
   "cell_type": "markdown",
   "metadata": {},
   "source": [
    "Encoding"
   ]
  },
  {
   "cell_type": "code",
   "execution_count": 20,
   "metadata": {},
   "outputs": [
    {
     "name": "stderr",
     "output_type": "stream",
     "text": [
      "100%|██████████| 16765873/16765873 [00:15<00:00, 1091701.57it/s]\n"
     ]
    }
   ],
   "source": [
    "output = [f'{rows[0][0]}|']\n",
    "split = 0\n",
    "\n",
    "#process non-numerical data, removing whitespace\n",
    "\n",
    "for rw in range(1, len(rows[:])):\n",
    "    row = rows[rw]\n",
    "    if row[0][0].isalpha():\n",
    "        # index string to remove whitespace\n",
    "        output.append(f'{row[0][:row[0].index(\" (\")]}{row[0][row[0].index(\"(\"):-5]}{row[0][-4:]}|')\n",
    "    else:\n",
    "        # stop indexing after encountering numerical data\n",
    "        split = rw\n",
    "        break\n",
    "\n",
    "#process numerical data\n",
    "pastTime = rows[split][0]\n",
    "deltaTime = rows[split][0]\n",
    "pastId = rows[split][1]\n",
    "rnge = [rows[split][1], 1]\n",
    "val = rows[split][2]\n",
    "\n",
    "\n",
    "#record time, start id, range, and value\n",
    "#Use run length encoding for repeated values\n",
    "#use delta encoding for time/id\n",
    "\n",
    "for row in tqdm(rows[split+1:]):\n",
    "    # if value is repeated, add one to the range\n",
    "    if row[0]==pastTime and row[2]==val and int(row[1])==int(pastId)+rnge[1]:\n",
    "        rnge[1]+=1\n",
    "    # otherwise add the time/range/val to the output\n",
    "    else:\n",
    "        # if range is one, omit range\n",
    "        if rnge[1]==1:\n",
    "            output.append(f'{deltaTime}({rnge[0]}){val}|')\n",
    "        else:\n",
    "            output.append(f'{deltaTime}({str(rnge[0])},{str(rnge[1])}){val}|')\n",
    "        # update values\n",
    "        deltaTime = int(row[0])-int(pastTime)\n",
    "        pastTime = row[0]\n",
    "        rnge = [int(row[1])-int(pastId), 1]\n",
    "        pastId = row[1]\n",
    "        val = row[2]\n",
    "\n",
    "# repeat for last range of values\n",
    "if rnge[1]==1:\n",
    "    output.append(f'{deltaTime}({rnge[0]}){val}|')\n",
    "else:\n",
    "    output.append(f'{deltaTime}({str(rnge[0])},{str(rnge[1])}){val}|')\n",
    "\n",
    "\n"
   ]
  },
  {
   "cell_type": "code",
   "execution_count": 21,
   "metadata": {},
   "outputs": [],
   "source": [
    "# turn output list into string\n",
    "output = ''.join(output)"
   ]
  },
  {
   "cell_type": "markdown",
   "metadata": {},
   "source": [
    "write encoded data to file"
   ]
  },
  {
   "cell_type": "code",
   "execution_count": 22,
   "metadata": {},
   "outputs": [],
   "source": [
    "encoded = open('encoded.darren', 'w')\n",
    "encoded.write(output)\n",
    "encoded.close()"
   ]
  }
 ],
 "metadata": {
  "kernelspec": {
   "display_name": "Python 3",
   "language": "python",
   "name": "python3"
  },
  "language_info": {
   "codemirror_mode": {
    "name": "ipython",
    "version": 3
   },
   "file_extension": ".py",
   "mimetype": "text/x-python",
   "name": "python",
   "nbconvert_exporter": "python",
   "pygments_lexer": "ipython3",
   "version": "3.11.9"
  }
 },
 "nbformat": 4,
 "nbformat_minor": 2
}
