{
 "cells": [
  {
   "cell_type": "markdown",
   "metadata": {},
   "source": [
    "import original data"
   ]
  },
  {
   "cell_type": "code",
   "execution_count": 2,
   "metadata": {},
   "outputs": [
    {
     "name": "stdout",
     "output_type": "stream",
     "text": [
      "16766709\n"
     ]
    }
   ],
   "source": [
    "import csv\n",
    "bruh = open('taskA.csv')\n",
    "huh = csv.reader(bruh)\n",
    "rows = list(huh)\n",
    "length = len(rows)\n",
    "print(length)"
   ]
  },
  {
   "cell_type": "code",
   "execution_count": 16,
   "metadata": {},
   "outputs": [],
   "source": [
    "from tqdm import tqdm"
   ]
  },
  {
   "cell_type": "markdown",
   "metadata": {},
   "source": [
    "Encoding"
   ]
  },
  {
   "cell_type": "code",
   "execution_count": 17,
   "metadata": {},
   "outputs": [
    {
     "name": "stderr",
     "output_type": "stream",
     "text": [
      "100%|██████████| 16765873/16765873 [00:11<00:00, 1488268.36it/s]\n"
     ]
    }
   ],
   "source": [
    "output = [f'{rows[0][0]}|']\n",
    "split = 0\n",
    "\n",
    "#process non-numerical data, removing whitespace\n",
    "\n",
    "for rw in range(1, len(rows[:])):\n",
    "    row = rows[rw]\n",
    "    if row[0][0].isalpha():\n",
    "        output.append(f'{row[0][:row[0].index(\" (\")]}{row[0][row[0].index(\"(\"):-5]}{row[0][-4:]}|')\n",
    "    else:\n",
    "        split = rw\n",
    "        break\n",
    "\n",
    "#process numerical data\n",
    "pastTime = rows[split][0]\n",
    "deltaTime = rows[split][0]\n",
    "pastId = rows[split][1]\n",
    "rnge = [rows[split][1], 1]\n",
    "val = rows[split][2]\n",
    "\n",
    "\n",
    "#record time, start id, range, and value\n",
    "#Use run length encoding for repeated values\n",
    "#use delta encoding for time/id\n",
    "\n",
    "for row in tqdm(rows[split+1:]):\n",
    "    if row[0]==pastTime and row[2]==val and int(row[1])==int(pastId)+rnge[1]:\n",
    "        rnge[1]+=1\n",
    "    else:\n",
    "        if rnge[1]==1:\n",
    "            output.append(f'{deltaTime}({rnge[0]}){val}|')\n",
    "        else:\n",
    "            output.append(f'{deltaTime}({str(rnge[0])},{str(rnge[1])}){val}|')\n",
    "        deltaTime = int(row[0])-int(pastTime)\n",
    "        pastTime = row[0]\n",
    "        rnge = [int(row[1])-int(pastId), 1]\n",
    "        pastId = row[1]\n",
    "        val = row[2]\n",
    "\n",
    "if rnge[1]==1:\n",
    "    output.append(f'{deltaTime}({rnge[0]}){val}|')\n",
    "else:\n",
    "    output.append(f'{deltaTime}({str(rnge[0])},{str(rnge[1])}){val}|')\n",
    "\n",
    "\n"
   ]
  },
  {
   "cell_type": "code",
   "execution_count": 1,
   "metadata": {},
   "outputs": [
    {
     "ename": "NameError",
     "evalue": "name 'output' is not defined",
     "output_type": "error",
     "traceback": [
      "\u001b[1;31m---------------------------------------------------------------------------\u001b[0m",
      "\u001b[1;31mNameError\u001b[0m                                 Traceback (most recent call last)",
      "Cell \u001b[1;32mIn[1], line 1\u001b[0m\n\u001b[1;32m----> 1\u001b[0m output \u001b[38;5;241m=\u001b[39m \u001b[38;5;124m'\u001b[39m\u001b[38;5;124m'\u001b[39m\u001b[38;5;241m.\u001b[39mjoin(\u001b[43moutput\u001b[49m)\n\u001b[0;32m      2\u001b[0m \u001b[38;5;28mprint\u001b[39m(output)\n",
      "\u001b[1;31mNameError\u001b[0m: name 'output' is not defined"
     ]
    }
   ],
   "source": [
    "output = ''.join(output)\n",
    "print(output)"
   ]
  },
  {
   "cell_type": "markdown",
   "metadata": {},
   "source": [
    "write encoded data to file"
   ]
  },
  {
   "cell_type": "code",
   "execution_count": 12,
   "metadata": {},
   "outputs": [],
   "source": [
    "encoded = open('encoded.darren', 'w')\n",
    "encoded.write(output)\n",
    "encoded.close()"
   ]
  },
  {
   "cell_type": "code",
   "execution_count": 13,
   "metadata": {},
   "outputs": [
    {
     "name": "stdout",
     "output_type": "stream",
     "text": [
      "-82\n"
     ]
    }
   ],
   "source": [
    "print(1+int('-83'))"
   ]
  }
 ],
 "metadata": {
  "kernelspec": {
   "display_name": "Python 3",
   "language": "python",
   "name": "python3"
  },
  "language_info": {
   "codemirror_mode": {
    "name": "ipython",
    "version": 3
   },
   "file_extension": ".py",
   "mimetype": "text/x-python",
   "name": "python",
   "nbconvert_exporter": "python",
   "pygments_lexer": "ipython3",
   "version": "3.11.9"
  }
 },
 "nbformat": 4,
 "nbformat_minor": 2
}
