{
 "cells": [
  {
   "cell_type": "markdown",
   "metadata": {},
   "source": [
    "Read Data"
   ]
  },
  {
   "cell_type": "code",
   "execution_count": 3,
   "metadata": {},
   "outputs": [],
   "source": [
    "import pandas as pd\n",
    "df = pd.read_csv('taskA.csv', header=None, nrows = 835)"
   ]
  },
  {
   "cell_type": "markdown",
   "metadata": {},
   "source": [
    "Identify relevant ids"
   ]
  },
  {
   "cell_type": "code",
   "execution_count": 4,
   "metadata": {},
   "outputs": [],
   "source": [
    "ids = [('voltage', 0), ('current', 0), ('frontLeft', 0), ('frontRight', 0), ('backLeft', 0), ('backRight', 0)]\n",
    "idNames = ['ams.pack.voltage', 'ams.pack.current', 'pcm.wheelSpeeds.frontLeft', 'pcm.wheelSpeeds.frontRight',\n",
    "        'pcm.wheelSpeeds.backLeft', 'pcm.wheelSpeeds.backRight']\n",
    "relevant = [(row[row.index('(')+1:row.index(')')], int(row[-4:])) for row in df[0] if True in [name in row for name in idNames]]\n",
    "relevantIds = [int(_[1]) for _ in relevant]\n",
    "#print(relevant, relevantIds)"
   ]
  },
  {
   "cell_type": "markdown",
   "metadata": {},
   "source": [
    "Pull out relevant values/reformatting"
   ]
  },
  {
   "cell_type": "code",
   "execution_count": 5,
   "metadata": {},
   "outputs": [],
   "source": [
    "data = pd.read_csv('taskA.csv', names = ['timestamp', 'id', 'val'], skiprows = lambda x: x < 835)"
   ]
  },
  {
   "cell_type": "code",
   "execution_count": 6,
   "metadata": {},
   "outputs": [
    {
     "data": {
      "text/html": [
       "<div>\n",
       "<style scoped>\n",
       "    .dataframe tbody tr th:only-of-type {\n",
       "        vertical-align: middle;\n",
       "    }\n",
       "\n",
       "    .dataframe tbody tr th {\n",
       "        vertical-align: top;\n",
       "    }\n",
       "\n",
       "    .dataframe thead th {\n",
       "        text-align: right;\n",
       "    }\n",
       "</style>\n",
       "<table border=\"1\" class=\"dataframe\">\n",
       "  <thead>\n",
       "    <tr style=\"text-align: right;\">\n",
       "      <th></th>\n",
       "      <th>id</th>\n",
       "      <th>timestamp</th>\n",
       "      <th>val</th>\n",
       "    </tr>\n",
       "  </thead>\n",
       "  <tbody>\n",
       "    <tr>\n",
       "      <th>0</th>\n",
       "      <td>8468</td>\n",
       "      <td>125000</td>\n",
       "      <td>4.13725</td>\n",
       "    </tr>\n",
       "    <tr>\n",
       "      <th>1</th>\n",
       "      <td>8469</td>\n",
       "      <td>125000</td>\n",
       "      <td>4.13785</td>\n",
       "    </tr>\n",
       "    <tr>\n",
       "      <th>2</th>\n",
       "      <td>8470</td>\n",
       "      <td>125000</td>\n",
       "      <td>4.12840</td>\n",
       "    </tr>\n",
       "    <tr>\n",
       "      <th>3</th>\n",
       "      <td>8471</td>\n",
       "      <td>125000</td>\n",
       "      <td>4.13330</td>\n",
       "    </tr>\n",
       "    <tr>\n",
       "      <th>4</th>\n",
       "      <td>8474</td>\n",
       "      <td>125000</td>\n",
       "      <td>4.08960</td>\n",
       "    </tr>\n",
       "  </tbody>\n",
       "</table>\n",
       "</div>"
      ],
      "text/plain": [
       "     id  timestamp      val\n",
       "0  8468     125000  4.13725\n",
       "1  8469     125000  4.13785\n",
       "2  8470     125000  4.12840\n",
       "3  8471     125000  4.13330\n",
       "4  8474     125000  4.08960"
      ]
     },
     "execution_count": 6,
     "metadata": {},
     "output_type": "execute_result"
    }
   ],
   "source": [
    "ids = data.pop('id')\n",
    "data.insert(0, 'id',ids)\n",
    "data.head()"
   ]
  },
  {
   "cell_type": "code",
   "execution_count": 7,
   "metadata": {},
   "outputs": [],
   "source": [
    "# new = data[data['id'].isin([8753, 8754])]\n",
    "# new.head()\n",
    "# print(len(new))"
   ]
  },
  {
   "cell_type": "markdown",
   "metadata": {},
   "source": [
    "Create dataframes for current and voltage"
   ]
  },
  {
   "cell_type": "code",
   "execution_count": 8,
   "metadata": {},
   "outputs": [
    {
     "data": {
      "text/html": [
       "<div>\n",
       "<style scoped>\n",
       "    .dataframe tbody tr th:only-of-type {\n",
       "        vertical-align: middle;\n",
       "    }\n",
       "\n",
       "    .dataframe tbody tr th {\n",
       "        vertical-align: top;\n",
       "    }\n",
       "\n",
       "    .dataframe thead th {\n",
       "        text-align: right;\n",
       "    }\n",
       "</style>\n",
       "<table border=\"1\" class=\"dataframe\">\n",
       "  <thead>\n",
       "    <tr style=\"text-align: right;\">\n",
       "      <th></th>\n",
       "      <th>id</th>\n",
       "      <th>timestamp</th>\n",
       "      <th>val</th>\n",
       "    </tr>\n",
       "  </thead>\n",
       "  <tbody>\n",
       "    <tr>\n",
       "      <th>0</th>\n",
       "      <td>8753</td>\n",
       "      <td>125027</td>\n",
       "      <td>0.507642</td>\n",
       "    </tr>\n",
       "    <tr>\n",
       "      <th>1</th>\n",
       "      <td>8753</td>\n",
       "      <td>125028</td>\n",
       "      <td>0.877678</td>\n",
       "    </tr>\n",
       "    <tr>\n",
       "      <th>2</th>\n",
       "      <td>8753</td>\n",
       "      <td>125029</td>\n",
       "      <td>0.810370</td>\n",
       "    </tr>\n",
       "    <tr>\n",
       "      <th>3</th>\n",
       "      <td>8753</td>\n",
       "      <td>125031</td>\n",
       "      <td>0.793709</td>\n",
       "    </tr>\n",
       "    <tr>\n",
       "      <th>4</th>\n",
       "      <td>8753</td>\n",
       "      <td>125032</td>\n",
       "      <td>0.911335</td>\n",
       "    </tr>\n",
       "  </tbody>\n",
       "</table>\n",
       "</div>"
      ],
      "text/plain": [
       "     id  timestamp       val\n",
       "0  8753     125027  0.507642\n",
       "1  8753     125028  0.877678\n",
       "2  8753     125029  0.810370\n",
       "3  8753     125031  0.793709\n",
       "4  8753     125032  0.911335"
      ]
     },
     "execution_count": 8,
     "metadata": {},
     "output_type": "execute_result"
    }
   ],
   "source": [
    "current = data[data['id'].isin([8753])]\n",
    "current.reset_index(drop=True, inplace=True)\n",
    "current.head()\n",
    "#current.plot(x = 'timestamp', y = 'val')"
   ]
  },
  {
   "cell_type": "code",
   "execution_count": 9,
   "metadata": {},
   "outputs": [
    {
     "data": {
      "text/html": [
       "<div>\n",
       "<style scoped>\n",
       "    .dataframe tbody tr th:only-of-type {\n",
       "        vertical-align: middle;\n",
       "    }\n",
       "\n",
       "    .dataframe tbody tr th {\n",
       "        vertical-align: top;\n",
       "    }\n",
       "\n",
       "    .dataframe thead th {\n",
       "        text-align: right;\n",
       "    }\n",
       "</style>\n",
       "<table border=\"1\" class=\"dataframe\">\n",
       "  <thead>\n",
       "    <tr style=\"text-align: right;\">\n",
       "      <th></th>\n",
       "      <th>id</th>\n",
       "      <th>timestamp</th>\n",
       "      <th>val</th>\n",
       "    </tr>\n",
       "  </thead>\n",
       "  <tbody>\n",
       "    <tr>\n",
       "      <th>0</th>\n",
       "      <td>8754</td>\n",
       "      <td>125027</td>\n",
       "      <td>1.831502</td>\n",
       "    </tr>\n",
       "    <tr>\n",
       "      <th>1</th>\n",
       "      <td>8754</td>\n",
       "      <td>125029</td>\n",
       "      <td>0.000000</td>\n",
       "    </tr>\n",
       "    <tr>\n",
       "      <th>2</th>\n",
       "      <td>8754</td>\n",
       "      <td>125030</td>\n",
       "      <td>0.732601</td>\n",
       "    </tr>\n",
       "    <tr>\n",
       "      <th>3</th>\n",
       "      <td>8754</td>\n",
       "      <td>125031</td>\n",
       "      <td>2.197802</td>\n",
       "    </tr>\n",
       "    <tr>\n",
       "      <th>4</th>\n",
       "      <td>8754</td>\n",
       "      <td>125032</td>\n",
       "      <td>0.366300</td>\n",
       "    </tr>\n",
       "  </tbody>\n",
       "</table>\n",
       "</div>"
      ],
      "text/plain": [
       "     id  timestamp       val\n",
       "0  8754     125027  1.831502\n",
       "1  8754     125029  0.000000\n",
       "2  8754     125030  0.732601\n",
       "3  8754     125031  2.197802\n",
       "4  8754     125032  0.366300"
      ]
     },
     "execution_count": 9,
     "metadata": {},
     "output_type": "execute_result"
    }
   ],
   "source": [
    "voltage = data[data['id'].isin([8754])]\n",
    "voltage.reset_index(drop=True, inplace=True)\n",
    "voltage.head()\n",
    "#voltage.plot(x = 'timestamp', y = 'val')"
   ]
  },
  {
   "cell_type": "markdown",
   "metadata": {},
   "source": [
    "Combine dfs for current/voltage and calculate power"
   ]
  },
  {
   "cell_type": "code",
   "execution_count": 10,
   "metadata": {},
   "outputs": [
    {
     "data": {
      "text/plain": [
       "<Axes: xlabel='timestamp'>"
      ]
     },
     "execution_count": 10,
     "metadata": {},
     "output_type": "execute_result"
    },
    {
     "data": {
      "image/png": "[encoded data removed]",
      "text/plain": [
       "<Figure size 640x480 with 1 Axes>"
      ]
     },
     "metadata": {},
     "output_type": "display_data"
    }
   ],
   "source": [
    "powerDf = pd.DataFrame((voltage['timestamp']+current['timestamp'])/2-125000)\n",
    "power = current['val']*voltage['val']\n",
    "powerDf.insert(1, 'power', power)\n",
    "powerDf.head()\n",
    "powerDf.plot(y='power', x='timestamp')"
   ]
  },
  {
   "cell_type": "code",
   "execution_count": 11,
   "metadata": {},
   "outputs": [
    {
     "name": "stdout",
     "output_type": "stream",
     "text": [
      "Requirement already satisfied: scipy in c:\\users\\dpnim\\appdata\\local\\packages\\pythonsoftwarefoundation.python.3.11_qbz5n2kfra8p0\\localcache\\local-packages\\python311\\site-packages (1.14.1)\n",
      "Requirement already satisfied: numpy<2.3,>=1.23.5 in c:\\users\\dpnim\\appdata\\local\\packages\\pythonsoftwarefoundation.python.3.11_qbz5n2kfra8p0\\localcache\\local-packages\\python311\\site-packages (from scipy) (2.1.0)\n",
      "Note: you may need to restart the kernel to use updated packages.\n"
     ]
    },
    {
     "name": "stderr",
     "output_type": "stream",
     "text": [
      "\n",
      "[notice] A new release of pip is available: 24.0 -> 24.2\n",
      "[notice] To update, run: C:\\Users\\dpnim\\AppData\\Local\\Microsoft\\WindowsApps\\PythonSoftwareFoundation.Python.3.11_qbz5n2kfra8p0\\python.exe -m pip install --upgrade pip\n"
     ]
    }
   ],
   "source": [
    "pip install scipy"
   ]
  },
  {
   "cell_type": "markdown",
   "metadata": {},
   "source": [
    "Numerically integrate power and convert to kwh"
   ]
  },
  {
   "cell_type": "code",
   "execution_count": 12,
   "metadata": {},
   "outputs": [
    {
     "name": "stdout",
     "output_type": "stream",
     "text": [
      "17459478951.9891\n",
      "4.849855264441418\n"
     ]
    }
   ],
   "source": [
    "from scipy import integrate\n",
    "\n",
    "powerInt = integrate.trapezoid(y=powerDf['power'], x=powerDf['timestamp'])\n",
    "print(powerInt)\n",
    "#print(powerDf['timestamp'].iloc[-1], powerDf['timestamp'][0])\n",
    "\n",
    "print(powerInt/1000/3600/1000)"
   ]
  },
  {
   "cell_type": "markdown",
   "metadata": {},
   "source": [
    "Find min/max/average speed"
   ]
  },
  {
   "cell_type": "code",
   "execution_count": 14,
   "metadata": {},
   "outputs": [
    {
     "name": "stdout",
     "output_type": "stream",
     "text": [
      "timestamp    2.186173e+06\n",
      "val          4.968134e+01\n",
      "dtype: float64\n",
      "timestamp    125094.0\n",
      "val               0.0\n",
      "dtype: float64\n",
      "23.963771430730564\n"
     ]
    }
   ],
   "source": [
    "#8385-8387, 8393\n",
    "backLeftDf = data[data['id']==8385]\n",
    "backRightDf = data[data['id']==8386]\n",
    "frontLeftDf = data[data['id']==8387]\n",
    "frontRightDf = data[data['id']==8393]\n",
    "backLeftDf.reset_index(drop=True, inplace=True)\n",
    "backRightDf.reset_index(drop=True, inplace=True)\n",
    "frontLeftDf.reset_index(drop=True, inplace=True)\n",
    "frontRightDf.reset_index(drop=True, inplace=True)\n",
    "\n",
    "\n",
    "mphDf = pd.DataFrame({'timestamp':(backLeftDf['timestamp']+backRightDf['timestamp']+frontRightDf['timestamp']+frontLeftDf['timestamp'])/4,\n",
    "                      'val': (backLeftDf['val']+backRightDf['val']+frontRightDf['val']+frontLeftDf['val'])/4})\n",
    "#mphDf.head()\n",
    "#print(backLeftDf['timestamp']+backRightDf['timestamp'])\n",
    "#speed = (backLeftDf['timestamp']+backRightDf['timestamp']+frontRightDf['timestamp']+frontLeftDf['timestamp'])/4\n",
    "#print((len(mphDf)))\n",
    "#mphDf.plot(x='timestamp', y='val')\n",
    "print(mphDf.max())\n",
    "print(mphDf.min())\n",
    "mphInt = integrate.trapezoid(y=mphDf['val'], x=mphDf['timestamp'])\n",
    "print(mphInt/(float(mphDf['timestamp'].iloc[-1]) - float(mphDf['timestamp'][0])))"
   ]
  }
 ],
 "metadata": {
  "kernelspec": {
   "display_name": "Python 3",
   "language": "python",
   "name": "python3"
  },
  "language_info": {
   "codemirror_mode": {
    "name": "ipython",
    "version": 3
   },
   "file_extension": ".py",
   "mimetype": "text/x-python",
   "name": "python",
   "nbconvert_exporter": "python",
   "pygments_lexer": "ipython3",
   "version": "3.11.9"
  }
 },
 "nbformat": 4,
 "nbformat_minor": 2
}
