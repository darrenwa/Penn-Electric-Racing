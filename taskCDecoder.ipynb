{
 "cells": [
  {
   "cell_type": "markdown",
   "metadata": {},
   "source": [
    "import data"
   ]
  },
  {
   "cell_type": "code",
   "execution_count": 1,
   "metadata": {},
   "outputs": [],
   "source": [
    "encoded = open('encoded.darren')\n",
    "dat = encoded.read()\n",
    "#print(dat[-100:])"
   ]
  },
  {
   "cell_type": "code",
   "execution_count": 4,
   "metadata": {},
   "outputs": [],
   "source": [
    "from tqdm import tqdm"
   ]
  },
  {
   "cell_type": "markdown",
   "metadata": {},
   "source": [
    "decoding"
   ]
  },
  {
   "cell_type": "code",
   "execution_count": 5,
   "metadata": {},
   "outputs": [
    {
     "name": "stderr",
     "output_type": "stream",
     "text": [
      "100%|██████████| 11120625/11120625 [00:37<00:00, 298944.32it/s]\n"
     ]
    }
   ],
   "source": [
    "data = [[dat.split('|')[0]]]\n",
    "for line in tqdm(dat.split('|')[1:-1]):\n",
    "    if line[0].isalpha():\n",
    "        data.append([line[:line.index('(')]+' '+line[line.index('('):line.index(')')+2:] + ' ' + line[line.index(')')+2:]])\n",
    "    else:\n",
    "        if ',' not in line:\n",
    "            data.append([line[:line.index('(')], line[line.index('(')+1:line.index(')'):], line[line.index(')')+1:]])\n",
    "        else:\n",
    "            start = int(line[line.index('(')+1:line.index(',')])\n",
    "            for i in range(start, start+int(line[line.index(',')+1:line.index(')')])):\n",
    "                data.append([line[:line.index('(')], str(i), line[line.index(')')+1:]])\n"
   ]
  },
  {
   "cell_type": "code",
   "execution_count": 6,
   "metadata": {},
   "outputs": [],
   "source": [
    "import csv"
   ]
  },
  {
   "cell_type": "markdown",
   "metadata": {},
   "source": [
    "write decoded data to csv"
   ]
  },
  {
   "cell_type": "code",
   "execution_count": 7,
   "metadata": {},
   "outputs": [],
   "source": [
    "with open('decoded.csv', 'w', newline='') as csvfile:\n",
    "    writer = csv.writer(csvfile)\n",
    "    writer.writerows(data)\n"
   ]
  }
 ],
 "metadata": {
  "kernelspec": {
   "display_name": "Python 3",
   "language": "python",
   "name": "python3"
  },
  "language_info": {
   "codemirror_mode": {
    "name": "ipython",
    "version": 3
   },
   "file_extension": ".py",
   "mimetype": "text/x-python",
   "name": "python",
   "nbconvert_exporter": "python",
   "pygments_lexer": "ipython3",
   "version": "3.11.9"
  }
 },
 "nbformat": 4,
 "nbformat_minor": 2
}
